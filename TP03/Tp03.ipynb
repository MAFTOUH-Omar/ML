{
 "cells": [
  {
   "cell_type": "code",
   "execution_count": 36,
   "id": "335f4524",
   "metadata": {},
   "outputs": [],
   "source": [
    "import numpy as np\n",
    "from sklearn.model_selection import train_test_split\n",
    "from sklearn import datasets\n",
    "\n",
    "X,y = datasets.make_classification(n_samples=1000 , n_features=10 , n_classes=2 , random_state=123)\n",
    "# n_samples : nbr d'observation\n",
    "X_train , X_test , y_train , y_test = train_test_split(X , y , test_size=0.2 , random_state=123)\n",
    "# 20% pour la fase du test & 80% pour la fase du training "
   ]
  },
  {
   "cell_type": "markdown",
   "id": "55f98ebe",
   "metadata": {},
   "source": [
    "## Question 01"
   ]
  },
  {
   "cell_type": "code",
   "execution_count": 57,
   "id": "df177b3c",
   "metadata": {},
   "outputs": [
    {
     "name": "stdout",
     "output_type": "stream",
     "text": [
      "Proba apriori : [0.502 0.498]\n",
      "Moyenne : \n",
      "[[-0.00721775 -0.05327293 -0.26235945 -0.16295748 -0.01074572  0.05635173\n",
      "   0.06838955  0.06679322 -1.02929791  0.04345199]\n",
      " [-0.01778834  0.06913433  0.24118136  0.19052381 -0.03458402  0.0030952\n",
      "  -0.01942158 -0.05289247  1.03644396  0.06152422]]\n",
      "Variance : \n",
      "[[1.0189034  0.9767368  0.34252281 0.4303357  1.24976898 0.9070993\n",
      "  1.00312209 0.91081119 0.3131705  0.90688775]\n",
      " [1.01708049 0.91841483 0.50193926 0.63999306 1.84188005 0.97992027\n",
      "  1.02528077 1.07826486 0.51016582 1.09238402]]\n"
     ]
    }
   ],
   "source": [
    "def entrainement ( X , y ) :\n",
    "    classes = np.unique(y) # Prendre les classes [0 ,1]\n",
    "    n_classe = len(classes) # la longeur du classes 2\n",
    "    n_observation , n_caract = X.shape # retourne nombre des lignes & nbr de colone\n",
    "    moyenne = np.zeros((n_classe , n_caract) , dtype = np.float64)\n",
    "    variance = np.zeros((n_classe , n_caract) , dtype = np.float64)\n",
    "    pro_apriori = np.zeros((n_classe) , dtype = np.float64)\n",
    "    \n",
    "    for i , c in enumerate(classes) :\n",
    "        X_c = X[y == c]\n",
    "        moyenne[i , :] = X_c.mean(axis=0)\n",
    "        variance[i , :] = X_c.var(axis=0)\n",
    "        pro_apriori[i] = X_c.shape[0]/n_observation\n",
    "        \n",
    "    return pro_apriori , moyenne , variance \n",
    "pro_apriori , moyenne , variance = entrainement(X , y)\n",
    "print(f\"Proba apriori : {pro_apriori}\")\n",
    "print(f\"Moyenne : \\n{moyenne}\")\n",
    "print(f\"Variance : \\n{variance}\")"
   ]
  },
  {
   "cell_type": "markdown",
   "id": "096294b2",
   "metadata": {},
   "source": [
    "## Question 02"
   ]
  },
  {
   "cell_type": "code",
   "execution_count": 50,
   "id": "d57abebb",
   "metadata": {},
   "outputs": [
    {
     "data": {
      "text/plain": [
       "array([[3.83488087e-01, 4.03520796e-01, 6.39459429e-01, ...,\n",
       "        4.11900651e-01, 1.03556499e-01, 4.17688036e-01],\n",
       "       [2.97351612e-01, 2.70433339e-01, 4.85716343e-01, ...,\n",
       "        4.14373089e-01, 5.89331647e-02, 3.41777222e-01],\n",
       "       [2.50108050e-01, 1.77902811e-01, 3.65320517e-02, ...,\n",
       "        4.17881587e-01, 3.56236455e-03, 4.09965253e-01],\n",
       "       ...,\n",
       "       [3.04831059e-01, 1.21483382e-01, 1.49956990e-01, ...,\n",
       "        9.84202871e-02, 2.52074688e-01, 4.17688402e-01],\n",
       "       [3.81353223e-01, 2.94829050e-01, 2.23271583e-01, ...,\n",
       "        1.10510114e-01, 1.70603081e-03, 1.12873902e-01],\n",
       "       [3.93266445e-01, 2.67785065e-01, 5.18384248e-01, ...,\n",
       "        4.10571282e-01, 3.21839481e-07, 2.70652515e-01]])"
      ]
     },
     "execution_count": 50,
     "metadata": {},
     "output_type": "execute_result"
    }
   ],
   "source": [
    "def fontion_densite(i , X):\n",
    "    moyenne_classe = moyenne[i]\n",
    "    variance_classe = variance[i]\n",
    "    num = np.exp((-(X-moyenne_classe) ** 2) / (2*variance_classe))\n",
    "    den = np.sqrt(2 * np.pi * variance_classe)\n",
    "    return num/den\n",
    "fontion_densite(0, X)"
   ]
  },
  {
   "cell_type": "code",
   "execution_count": 52,
   "id": "3cc4f206",
   "metadata": {},
   "outputs": [
    {
     "data": {
      "text/plain": [
       "1"
      ]
     },
     "execution_count": 52,
     "metadata": {},
     "output_type": "execute_result"
    }
   ],
   "source": [
    "def prediction(X) :\n",
    "    prostirioris = []\n",
    "    for i , c in enumerate(classes) :\n",
    "        priori = np.log(pro_apriori[i])\n",
    "        postiriori = np.sum(np.log(fontion_densite(i , X)))\n",
    "        postiriori = postiriori + priori\n",
    "        prostirioris.append(postiriori)\n",
    "    return classes[np.argmax(prostirioris)]\n",
    "prediction(X)"
   ]
  },
  {
   "cell_type": "code",
   "execution_count": 53,
   "id": "4b02d2ba",
   "metadata": {},
   "outputs": [],
   "source": [
    "def predection_final (X) :\n",
    "    y_pred = [prediction(x) for x in X]\n",
    "    return np.array(y_pred)"
   ]
  },
  {
   "cell_type": "code",
   "execution_count": 54,
   "id": "f97f3d27",
   "metadata": {},
   "outputs": [
    {
     "data": {
      "text/plain": [
       "array([0.50375, 0.49625])"
      ]
     },
     "execution_count": 54,
     "metadata": {},
     "output_type": "execute_result"
    }
   ],
   "source": [
    "entrainement(X_train , y_train)"
   ]
  },
  {
   "cell_type": "code",
   "execution_count": 55,
   "id": "ae8f3b2a",
   "metadata": {},
   "outputs": [],
   "source": [
    "prediction = predection_final(X_test)"
   ]
  },
  {
   "cell_type": "code",
   "execution_count": 56,
   "id": "314c6209",
   "metadata": {},
   "outputs": [
    {
     "data": {
      "text/plain": [
       "0.97"
      ]
     },
     "execution_count": 56,
     "metadata": {},
     "output_type": "execute_result"
    }
   ],
   "source": [
    "def precision (y_ped , y_test) :\n",
    "    return sum(y_ped == y_test) / len(y_test)\n",
    "precision(prediction , y_test)"
   ]
  },
  {
   "cell_type": "code",
   "execution_count": null,
   "id": "42045188",
   "metadata": {},
   "outputs": [],
   "source": []
  }
 ],
 "metadata": {
  "kernelspec": {
   "display_name": "Python 3 (ipykernel)",
   "language": "python",
   "name": "python3"
  },
  "language_info": {
   "codemirror_mode": {
    "name": "ipython",
    "version": 3
   },
   "file_extension": ".py",
   "mimetype": "text/x-python",
   "name": "python",
   "nbconvert_exporter": "python",
   "pygments_lexer": "ipython3",
   "version": "3.11.5"
  }
 },
 "nbformat": 4,
 "nbformat_minor": 5
}
