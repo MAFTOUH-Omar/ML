{
 "cells": [
  {
   "cell_type": "code",
   "execution_count": 7,
   "metadata": {},
   "outputs": [],
   "source": [
    "import pandas as pd\n",
    "import numpy as np\n",
    "from matplotlib import pyplot as plt\n",
    "\n",
    "data = pd.read_csv(\"mnist.csv\")\n",
    "data = np.array(data)\n",
    "np.random.shuffle(data)\n",
    "n , m = data.shape\n",
    "data_test = data[0:1000].T\n",
    "data_train = data[0:m].T\n",
    "y_test = data_test[0]\n",
    "X_test = data_test[1:1000]\n",
    "X_test = X_test / 255\n",
    "\n",
    "y_train = data_train[0]\n",
    "X_train = data_train[1:n]\n",
    "X_train = X_train / 255"
   ]
  },
  {
   "cell_type": "code",
   "execution_count": 16,
   "metadata": {},
   "outputs": [
    {
     "data": {
      "text/plain": [
       "<matplotlib.image.AxesImage at 0x268d643ba10>"
      ]
     },
     "execution_count": 16,
     "metadata": {},
     "output_type": "execute_result"
    },
    {
     "data": {
      "image/png": "[encoded data removed]",
      "text/plain": [
       "<Figure size 640x480 with 1 Axes>"
      ]
     },
     "metadata": {},
     "output_type": "display_data"
    }
   ],
   "source": [
    "# 1.4.1\n",
    "plt.imshow(X_train[:,0].reshape(28,28))"
   ]
  },
  {
   "cell_type": "code",
   "execution_count": null,
   "metadata": {},
   "outputs": [],
   "source": [
    "def initialisation():\n",
    "    w1 = np.random.rand(10 , 784) - 0.5\n",
    "    b1 = np.random.rand(10 , 1) - 0.5\n",
    "    w2 = np.random.rand(10 , 10) - 0.5\n",
    "    b2 = np.random.rand(10 , 1) - 0.5\n",
    "    return w1 , b1 , w2 , b2\n",
    "\n",
    "def relu(z) :\n",
    "    return max(z , 0)\n",
    "\n",
    "def softmax(z) :\n",
    "    a = np.exp(z) / (np.sum(np.exp(z)))\n",
    "    return a\n",
    "\n",
    "def prop_avant(w1 , b1 , w2 , b2 , X) :\n",
    "    z1 = w1.dot(X) + b1\n",
    "    a1 = relu(z1)\n",
    "    z2 = w2.dot(a1) + b2\n",
    "    a2 = softmax(z2)\n",
    "    return z1 , a1 , z2 , a2"
   ]
  },
  {
   "cell_type": "code",
   "execution_count": null,
   "metadata": {},
   "outputs": [],
   "source": [
    "def derive_relu (Z) :\n",
    "    return (Z > 0)\n",
    "\n",
    "def retro (z1 , a1 , z2 , a2 , w1 , w2 , X , y) :\n",
    "    dz2 = a2 - y\n",
    "    dw2 = 1 / m * dz2.dot(a1.T)\n",
    "    db2 = 1 / m * np.sum(dz2)\n",
    "    dz1 = w2.T * dot(dz2) * derive_relu(dz1)\n",
    "    dw1 = 1 / m * dz1.dot(X.T)\n",
    "    db1 = 1 / m * np.sum(dz1)\n",
    "    return dw1 , db1 , dw2 , db2"
   ]
  }
 ],
 "metadata": {
  "kernelspec": {
   "display_name": "Python 3",
   "language": "python",
   "name": "python3"
  },
  "language_info": {
   "codemirror_mode": {
    "name": "ipython",
    "version": 3
   },
   "file_extension": ".py",
   "mimetype": "text/x-python",
   "name": "python",
   "nbconvert_exporter": "python",
   "pygments_lexer": "ipython3",
   "version": "3.12.1"
  }
 },
 "nbformat": 4,
 "nbformat_minor": 2
}
