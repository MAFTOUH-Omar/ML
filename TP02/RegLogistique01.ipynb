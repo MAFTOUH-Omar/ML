{
 "cells": [
  {
   "cell_type": "code",
   "execution_count": 1,
   "id": "11b32391",
   "metadata": {},
   "outputs": [
    {
     "ename": "ModuleNotFoundError",
     "evalue": "No module named 'sklearn'",
     "output_type": "error",
     "traceback": [
      "\u001b[1;31m---------------------------------------------------------------------------\u001b[0m",
      "\u001b[1;31mModuleNotFoundError\u001b[0m                       Traceback (most recent call last)",
      "Cell \u001b[1;32mIn[1], line 3\u001b[0m\n\u001b[0;32m      1\u001b[0m \u001b[38;5;28;01mimport\u001b[39;00m \u001b[38;5;21;01mnumpy\u001b[39;00m \u001b[38;5;28;01mas\u001b[39;00m \u001b[38;5;21;01mnp\u001b[39;00m\n\u001b[0;32m      2\u001b[0m \u001b[38;5;28;01mimport\u001b[39;00m \u001b[38;5;21;01mmatplotlib\u001b[39;00m\u001b[38;5;21;01m.\u001b[39;00m\u001b[38;5;21;01mpyplot\u001b[39;00m \u001b[38;5;28;01mas\u001b[39;00m \u001b[38;5;21;01mplt\u001b[39;00m\n\u001b[1;32m----> 3\u001b[0m \u001b[38;5;28;01mfrom\u001b[39;00m \u001b[38;5;21;01msklearn\u001b[39;00m\u001b[38;5;21;01m.\u001b[39;00m\u001b[38;5;21;01mmodel_selection\u001b[39;00m \u001b[38;5;28;01mimport\u001b[39;00m train_test_split\n\u001b[0;32m      5\u001b[0m np\u001b[38;5;241m.\u001b[39mrandom\u001b[38;5;241m.\u001b[39mseed(\u001b[38;5;241m0\u001b[39m)\n\u001b[0;32m      6\u001b[0m n_observation \u001b[38;5;241m=\u001b[39m \u001b[38;5;241m100\u001b[39m\n",
      "\u001b[1;31mModuleNotFoundError\u001b[0m: No module named 'sklearn'"
     ]
    }
   ],
   "source": [
    "import numpy as np\n",
    "import matplotlib.pyplot as plt\n",
    "from sklearn.model_selection import train_test_split\n",
    "\n",
    "np.random.seed(0)\n",
    "n_observation = 100\n",
    "X = np.random.randn(n_observation , 1)\n",
    "y = (X > 0.5).astype(int).ravel()\n",
    "plt.scatter(X , y)"
   ]
  },
  {
   "cell_type": "code",
   "execution_count": null,
   "id": "316ad142",
   "metadata": {},
   "outputs": [],
   "source": []
  },
  {
   "cell_type": "code",
   "execution_count": null,
   "id": "c037de44",
   "metadata": {},
   "outputs": [],
   "source": [
    "def sigmoide( z ) :\n",
    "    return 1 / (1 + np.exp(-z))\n",
    "\n",
    "def calcul_cout ( X , Y , theta ) :\n",
    "    m = len(Y)\n",
    "    h = sigmoide(X.dot(theta))\n",
    "    cout = - (1/m) * (Y.T.dot(np.log(h)) + (1-Y).T.dot(np.log(1-h)))\n",
    "    return cout\n",
    "\n",
    "def gradient_descent ( X , Y , theta , alpha , iteration ) :\n",
    "    n = len(Y)\n",
    "    cout_historique = np.zeros(iteration)\n",
    "    for i in range(n):\n",
    "        h = sigmoide(X.dot(theta))\n",
    "        gradient = (1/n) * X.T.dot(h - Y)\n",
    "        theta -= alpha * gradient\n",
    "        cout_historique[i] = calcul_cout(X  , Y , theta)\n",
    "    return theta , cout_historique\n"
   ]
  },
  {
   "cell_type": "code",
   "execution_count": null,
   "id": "37c49ff4",
   "metadata": {},
   "outputs": [],
   "source": [
    "X = np.c_[np.ones(n_observation) , X]"
   ]
  },
  {
   "cell_type": "code",
   "execution_count": null,
   "id": "a445ddb5",
   "metadata": {},
   "outputs": [],
   "source": [
    "theta_initiale = np.zeros(X.shape[1])\n",
    "alpha = 0.01\n",
    "iteration = 1000\n",
    "\n",
    "theta_final , cout_historique = gradient_descent(X , y , theta_initiale , alpha , iteration)\n",
    "\n",
    "y_pred = sigmoide(X.dot(theta_final))"
   ]
  },
  {
   "cell_type": "code",
   "execution_count": null,
   "id": "0ab99afe",
   "metadata": {},
   "outputs": [
    {
     "data": {
      "text/plain": [
       "array([0.58153654, 0.48054358, 0.52367423, 0.61570574, 0.58903257,\n",
       "       0.38016353, 0.52154154, 0.43968959, 0.44323115, 0.4813213 ,\n",
       "       0.46150574, 0.55888908, 0.50745243, 0.45984752, 0.4837996 ,\n",
       "       0.47559399, 0.56181503, 0.4357387 , 0.47406077, 0.38886159,\n",
       "       0.27707769, 0.49944025, 0.51516116, 0.39682717, 0.61774128,\n",
       "       0.34723753, 0.45422654, 0.43705777, 0.56465562, 0.55999843,\n",
       "       0.46231437, 0.47890562, 0.38647539, 0.31253878, 0.42529628,\n",
       "       0.46241833, 0.54235432, 0.54028659, 0.4224244 , 0.42862582,\n",
       "       0.37516522, 0.3495641 , 0.33040238, 0.59502964, 0.41354553,\n",
       "       0.41873451, 0.36099201, 0.50867937, 0.33652822, 0.43518256,\n",
       "       0.38593213, 0.47955644, 0.41346211, 0.36597355, 0.44876302,\n",
       "       0.48264237, 0.45576245, 0.47327259, 0.40455399, 0.42421519,\n",
       "       0.4018158 , 0.42444755, 0.39176914, 0.32908269, 0.46398202,\n",
       "       0.42137253, 0.33544315, 0.48520947, 0.38509583, 0.45468421,\n",
       "       0.50506977, 0.46038917, 0.53561587, 0.36222973, 0.48070628,\n",
       "       0.40093044, 0.38767799, 0.40854729, 0.42795005, 0.45499642,\n",
       "       0.36704611, 0.51787266, 0.48542413, 0.34172096, 0.56138699,\n",
       "       0.59107733, 0.53853711, 0.43759074, 0.37361379, 0.52930605,\n",
       "       0.42127098, 0.54177324, 0.46627194, 0.52351801, 0.4772829 ,\n",
       "       0.50339025, 0.45161981, 0.5831199 , 0.46023567, 0.48068004])"
      ]
     },
     "execution_count": 5,
     "metadata": {},
     "output_type": "execute_result"
    }
   ],
   "source": [
    "y_pred"
   ]
  },
  {
   "cell_type": "code",
   "execution_count": null,
   "id": "11641ab6",
   "metadata": {},
   "outputs": [
    {
     "name": "stdout",
     "output_type": "stream",
     "text": [
      "0\n"
     ]
    }
   ],
   "source": [
    "def Eval_precision (y_Vrai , y_pred) :\n",
    "    vrais_positive = 0\n",
    "    faux_positive = 0\n",
    "    \n",
    "    for vrai , pred in zip(y_Vrai , y_pred) :\n",
    "        if pred == 1 and vrai == 1 :\n",
    "            vrais_positive += 1\n",
    "        elif pred == 1 and vrai != 0 :\n",
    "            faux_positive +=1\n",
    "            \n",
    "    if faux_positive + vrais_positive == 0 :\n",
    "        return 0\n",
    "    \n",
    "    return vrais_positive / ( vrais_positive + faux_positive ) \n",
    "\n",
    "    \n",
    "    "
   ]
  },
  {
   "cell_type": "code",
   "execution_count": null,
   "id": "3417d3c2",
   "metadata": {},
   "outputs": [],
   "source": []
  }
 ],
 "metadata": {
  "kernelspec": {
   "display_name": "Python 3 (ipykernel)",
   "language": "python",
   "name": "python3"
  },
  "language_info": {
   "codemirror_mode": {
    "name": "ipython",
    "version": 3
   },
   "file_extension": ".py",
   "mimetype": "text/x-python",
   "name": "python",
   "nbconvert_exporter": "python",
   "pygments_lexer": "ipython3",
   "version": "3.12.1"
  }
 },
 "nbformat": 4,
 "nbformat_minor": 5
}
