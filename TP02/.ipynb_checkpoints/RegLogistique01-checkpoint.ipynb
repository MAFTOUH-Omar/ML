{
 "cells": [
  {
   "cell_type": "code",
   "execution_count": 35,
   "id": "11b32391",
   "metadata": {},
   "outputs": [
    {
     "data": {
      "text/plain": [
       "<matplotlib.collections.PathCollection at 0x2482acb4510>"
      ]
     },
     "execution_count": 35,
     "metadata": {},
     "output_type": "execute_result"
    },
    {
     "data": {
      "image/png": "[encoded data removed]",
      "text/plain": [
       "<Figure size 640x480 with 1 Axes>"
      ]
     },
     "metadata": {},
     "output_type": "display_data"
    }
   ],
   "source": [
    "import numpy as np\n",
    "import matplotlib.pyplot as plt\n",
    "from sklearn.model_selection import train_test_split\n",
    "\n",
    "np.random.seed(0)\n",
    "n_observation = 100\n",
    "X = np.random.randn(n_observation , 1)\n",
    "y = (X > 0.5).astype(int).ravel()\n",
    "plt.scatter(X , y)"
   ]
  },
  {
   "cell_type": "code",
   "execution_count": 36,
   "id": "c037de44",
   "metadata": {},
   "outputs": [],
   "source": [
    "def sigmoide( z ) :\n",
    "    return 1 / (1 + np.exp(-z))\n",
    "\n",
    "def calcul_cout ( X , Y , theta ) :\n",
    "    m = len(Y)\n",
    "    h = sigmoide(X.dot(theta))\n",
    "    cout = - (1/m) * (Y.T.dot(np.log(h)) + (1-Y).T.dot(np.log(1-h)))\n",
    "    return cout\n",
    "\n",
    "def gradient_descent ( X , Y , theta , alpha , iteration ) :\n",
    "    n = len(Y)\n",
    "    cout_historique = np.zeros(iteration)\n",
    "    for i in range(n):\n",
    "        h = sigmoide(X.dot(theta))\n",
    "        gradient = (1/n) * X.T.dot(h - Y)\n",
    "        theta -= alpha * gradient\n",
    "        cout_historique[i] = calcul_cout(X  , Y , theta)\n",
    "    return theta , cout_historique\n"
   ]
  },
  {
   "cell_type": "code",
   "execution_count": 29,
   "id": "37c49ff4",
   "metadata": {},
   "outputs": [],
   "source": [
    "X = np.c_[np.ones(n_observation) , X]"
   ]
  },
  {
   "cell_type": "code",
   "execution_count": 37,
   "id": "a445ddb5",
   "metadata": {},
   "outputs": [],
   "source": [
    "theta_initiale = np.zeros(X.shape[1])\n",
    "alpha = 0.01\n",
    "iteration = 1000\n",
    "\n",
    "theta_final , cout_historique = gradient_descent(X , y , theta_initiale , alpha , iteration)\n",
    "\n",
    "y_pred = sigmoide(X.dot(theta_final))"
   ]
  },
  {
   "cell_type": "code",
   "execution_count": 38,
   "id": "0ab99afe",
   "metadata": {},
   "outputs": [
    {
     "data": {
      "text/plain": [
       "array([0.62800392, 0.52966203, 0.5721285 , 0.66043077, 0.63515327,\n",
       "       0.42797761, 0.5700453 , 0.4887692 , 0.49234041, 0.53043411,\n",
       "       0.51068829, 0.60628062, 0.55623997, 0.5090289 , 0.53289289,\n",
       "       0.52474278, 0.60909767, 0.48477928, 0.52321701, 0.43695229,\n",
       "       0.31911083, 0.54835545, 0.56380276, 0.44514335, 0.6623495 ,\n",
       "       0.39371285, 0.50339583, 0.48611208, 0.61182954, 0.60734905,\n",
       "       0.5114971 , 0.52803517, 0.43449338, 0.35709293, 0.47420329,\n",
       "       0.51160106, 0.59030218, 0.5882969 , 0.47128691, 0.47758022,\n",
       "       0.42280589, 0.39614933, 0.37601194, 0.64085852, 0.46224912,\n",
       "       0.46753489, 0.40808314, 0.55744519, 0.38246717, 0.48421713,\n",
       "       0.43393323, 0.52868171, 0.46216404, 0.41326761, 0.49790852,\n",
       "       0.53174507, 0.50493629, 0.52243231, 0.4530636 , 0.47310584,\n",
       "       0.4502597 , 0.47334175, 0.43994522, 0.37461911, 0.5131643 ,\n",
       "       0.47021789, 0.38132496, 0.53429059, 0.43307069, 0.50385495,\n",
       "       0.55389783, 0.50957105, 0.58376143, 0.40937227, 0.52982357,\n",
       "       0.44935243, 0.43573292, 0.45714717, 0.47689519, 0.50416811,\n",
       "       0.41438248, 0.56645756, 0.53450332, 0.38792624, 0.60868575,\n",
       "       0.63709997, 0.58659903, 0.4866504 , 0.42119848, 0.57762138,\n",
       "       0.47011466, 0.5897388 , 0.51545181, 0.57197596, 0.52642242,\n",
       "       0.55224558, 0.50077924, 0.62951574, 0.50941742, 0.52979752])"
      ]
     },
     "execution_count": 38,
     "metadata": {},
     "output_type": "execute_result"
    }
   ],
   "source": [
    "y_pred"
   ]
  },
  {
   "cell_type": "code",
   "execution_count": null,
   "id": "11641ab6",
   "metadata": {},
   "outputs": [],
   "source": [
    "def Eval_precision (y_Vrai , y_pred) :\n",
    "    vrais_positive = 0\n",
    "    faux_positive = 0\n",
    "    \n",
    "    for vrai , pred in zip(y_Vrai , y_pred) :\n",
    "        if pred == 1 and vrai == 1 :\n",
    "            vrais_positive += 1\n",
    "        elif pred == 1 and vrai != 0 :\n",
    "            faux_positive +=1\n",
    "            \n",
    "    if faux_positive + vrais_positive == 0\n",
    "        return 0\n",
    "    \n",
    "    return vrais_positive / ( vrais_positive + faux_positive ) \n",
    "    \n",
    "    "
   ]
  }
 ],
 "metadata": {
  "kernelspec": {
   "display_name": "Python 3 (ipykernel)",
   "language": "python",
   "name": "python3"
  },
  "language_info": {
   "codemirror_mode": {
    "name": "ipython",
    "version": 3
   },
   "file_extension": ".py",
   "mimetype": "text/x-python",
   "name": "python",
   "nbconvert_exporter": "python",
   "pygments_lexer": "ipython3",
   "version": "3.11.5"
  }
 },
 "nbformat": 4,
 "nbformat_minor": 5
}
